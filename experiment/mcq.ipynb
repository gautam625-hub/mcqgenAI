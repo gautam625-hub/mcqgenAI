{
 "cells": [
  {
   "cell_type": "markdown",
   "id": "75029462",
   "metadata": {},
   "source": [
    "# My MCQ Generator Notebook"
   ]
  }
 ],
 "metadata": {
  "kernelspec": {
   "display_name": "Python 3",
   "language": "python",
   "name": "python3"
  },
  "language_info": {
   "name": "python",
   "version": "3.13.5"
  }
 },
 "nbformat": 4,
 "nbformat_minor": 5
}
